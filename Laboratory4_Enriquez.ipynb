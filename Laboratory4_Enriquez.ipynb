{
  "cells": [
    {
      "cell_type": "markdown",
      "source": [
        "**Google Drive Connection**"
      ],
      "metadata": {
        "id": "kvmzi9C_ZT5O"
      }
    },
    {
      "cell_type": "code",
      "source": [
        "from google.colab import drive\n",
        "drive.mount('/content/drive')"
      ],
      "metadata": {
        "colab": {
          "base_uri": "https://localhost:8080/"
        },
        "id": "uYiq58-TZPKm",
        "outputId": "4b869d64-4bf6-42c8-d3ea-588db7bed129"
      },
      "execution_count": 2,
      "outputs": [
        {
          "output_type": "stream",
          "name": "stdout",
          "text": [
            "Mounted at /content/drive\n"
          ]
        }
      ]
    },
    {
      "cell_type": "code",
      "source": [
        "import os\n",
        "import matplotlib.pyplot as plt\n",
        "import matplotlib.image as mpimg"
      ],
      "metadata": {
        "id": "aKOYoehpaFQu"
      },
      "execution_count": 3,
      "outputs": []
    },
    {
      "cell_type": "code",
      "source": [
        "# Path to the folder containing flower photos\n",
        "flower_photo_folder = \"/content/drive/MyDrive/Colab Notebooks/photos/\"\n",
        "\n",
        "# Path to the selfie folder\n",
        "selfie_folder = os.path.join(flower_photo_folder, \"flower_photos\")"
      ],
      "metadata": {
        "id": "QnbGNZWvaILE"
      },
      "execution_count": 5,
      "outputs": []
    },
    {
      "cell_type": "markdown",
      "source": [
        "**Showing the images**"
      ],
      "metadata": {
        "id": "fwZ2X94ia88F"
      }
    },
    {
      "cell_type": "code",
      "source": [
        "import os\n",
        "\n",
        "flower_photo_folder = \"/content/drive/MyDrive/Colab Notebooks/photos/flower_photos\"\n",
        "\n",
        "flower_categories = [\"daisy\", \"dandelion\", \"roses\", \"sunflowers\", \"tulips\"]\n",
        "\n",
        "image_count = 0\n",
        "\n",
        "# Iterate through each flower category\n",
        "for category in flower_categories:\n",
        "    category_folder = os.path.join(flower_photo_folder, category)\n",
        "    # Check if category folder exists\n",
        "    if os.path.exists(category_folder):\n",
        "        for filename in os.listdir(category_folder):\n",
        "            if filename.endswith(\".jpg\") or filename.endswith(\".jpeg\"):\n",
        "                image_count += 1\n",
        "\n",
        "print(\"Total number of selfie images:\", image_count)"
      ],
      "metadata": {
        "colab": {
          "base_uri": "https://localhost:8080/"
        },
        "id": "5UeZI7NMgstM",
        "outputId": "f2316e19-324a-40b4-c290-5cfc8255ff1b"
      },
      "execution_count": 8,
      "outputs": [
        {
          "output_type": "stream",
          "name": "stdout",
          "text": [
            "Total number of selfie images: 3670\n"
          ]
        }
      ]
    },
    {
      "cell_type": "code",
      "source": [
        "import os\n",
        "import numpy as np\n",
        "import tensorflow as tf\n",
        "import matplotlib.pyplot as plt\n",
        "\n",
        "# Define or load your TensorFlow model here\n",
        "# For example, you can define a simple model like this:\n",
        "num_classes = 1  # Replace 5 with the actual number of classes in your dataset\n",
        "\n",
        "model = tf.keras.Sequential([\n",
        "    tf.keras.layers.Conv2D(32, (3, 3), activation='relu', input_shape=(30, 30, 3)),\n",
        "    tf.keras.layers.MaxPooling2D((2, 2)),\n",
        "    tf.keras.layers.Conv2D(64, (3, 3), activation='relu'),\n",
        "    tf.keras.layers.MaxPooling2D((2, 2)),\n",
        "    tf.keras.layers.Conv2D(64, (3, 3), activation='relu'),\n",
        "    tf.keras.layers.Flatten(),\n",
        "    tf.keras.layers.Dense(64, activation='relu'),\n",
        "    tf.keras.layers.Dense(num_classes)\n",
        "])\n",
        "\n",
        "# Path to the folder containing the images\n",
        "selfie_folder = \"/content/drive/MyDrive/Colab Notebooks/photos/flower_photos/daisy\"\n",
        "\n",
        "# List of image filenames\n",
        "selfie_filenames = [\"43474673_7bb4465a86.jpg\", \"54377391_15648e8d18.jpg\", \"99306615_739eb94b9e_m.jpg\"]\n",
        "\n",
        "# Iterate over each image filename\n",
        "for selfie_filename in selfie_filenames:\n",
        "    # Path to the image file\n",
        "    selfie_path = os.path.join(selfie_folder, selfie_filename)\n",
        "\n",
        "    # Load and preprocess the image\n",
        "    img = tf.keras.utils.load_img(selfie_path, target_size=(30, 30))\n",
        "    img_array = tf.keras.utils.img_to_array(img)\n",
        "    img_array = tf.expand_dims(img_array, 0)  # Create a batch\n",
        "\n",
        "    # Make predictions\n",
        "    predictions = model.predict(img_array)\n",
        "    class_names = [...]  # Define your class names\n",
        "    score = tf.nn.softmax(predictions[0])\n",
        "\n",
        "    # Show the image\n",
        "    plt.imshow(img)\n",
        "    plt.axis('off')\n",
        "    plt.show()\n",
        "\n",
        "    # Print prediction results\n",
        "    print(\"This image most likely belongs to {} with a {:.2f} percent confidence.\"\n",
        "          .format(class_names[np.argmax(score)], 100 * np.max(score)))\n"
      ],
      "metadata": {
        "colab": {
          "base_uri": "https://localhost:8080/",
          "height": 1000
        },
        "id": "fQn5zDoMg_Wd",
        "outputId": "efca9e3a-37c4-436f-ad47-cc1bcd341180"
      },
      "execution_count": 12,
      "outputs": [
        {
          "output_type": "stream",
          "name": "stdout",
          "text": [
            "1/1 [==============================] - 0s 208ms/step\n"
          ]
        },
        {
          "output_type": "display_data",
          "data": {
            "text/plain": [
              "<Figure size 640x480 with 1 Axes>"
            ],
            "image/png": "[encoded data removed]"
          },
          "metadata": {}
        },
        {
          "output_type": "stream",
          "name": "stdout",
          "text": [
            "This image most likely belongs to Ellipsis with a 100.00 percent confidence.\n",
            "1/1 [==============================] - 0s 28ms/step\n"
          ]
        },
        {
          "output_type": "display_data",
          "data": {
            "text/plain": [
              "<Figure size 640x480 with 1 Axes>"
            ],
            "image/png": "[encoded data removed]"
          },
          "metadata": {}
        },
        {
          "output_type": "stream",
          "name": "stdout",
          "text": [
            "This image most likely belongs to Ellipsis with a 100.00 percent confidence.\n",
            "1/1 [==============================] - 0s 25ms/step\n"
          ]
        },
        {
          "output_type": "display_data",
          "data": {
            "text/plain": [
              "<Figure size 640x480 with 1 Axes>"
            ],
            "image/png": "[encoded data removed]"
          },
          "metadata": {}
        },
        {
          "output_type": "stream",
          "name": "stdout",
          "text": [
            "This image most likely belongs to Ellipsis with a 100.00 percent confidence.\n"
          ]
        }
      ]
    }
  ],
  "metadata": {
    "accelerator": "GPU",
    "colab": {
      "toc_visible": true,
      "provenance": []
    },
    "kernelspec": {
      "display_name": "Python 3",
      "name": "python3"
    }
  },
  "nbformat": 4,
  "nbformat_minor": 0
}